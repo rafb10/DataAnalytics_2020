{
 "cells": [
  {
   "cell_type": "code",
   "execution_count": 85,
   "metadata": {},
   "outputs": [],
   "source": [
    "import pandas as pd\n",
    "import seaborn as sns\n",
    "import numpy as np\n",
    "import matplotlib.pyplot as plt\n",
    "from scipy.special import logit, expit\n",
    "import scipy.stats"
   ]
  },
  {
   "cell_type": "markdown",
   "metadata": {},
   "source": [
    "# 1) Normal distribution"
   ]
  },
  {
   "cell_type": "code",
   "execution_count": 2,
   "metadata": {},
   "outputs": [],
   "source": [
    "df = pd.DataFrame(columns = None)\n",
    "df['default_normal'] = np.random.normal(size=10000)\n",
    "df['normal_m_8_sd_15'] = np.random.normal(loc=8, scale=15, size=10000)\n",
    "df['normal_m_8_sd_3'] = np.random.normal(loc=8, scale=3, size=10000)"
   ]
  },
  {
   "cell_type": "code",
   "execution_count": 3,
   "metadata": {},
   "outputs": [],
   "source": [
    "df_melted = df.melt()"
   ]
  },
  {
   "cell_type": "markdown",
   "metadata": {},
   "source": [
    "## Different variance and mean\n",
    "### 16 bins"
   ]
  },
  {
   "cell_type": "code",
   "execution_count": 4,
   "metadata": {},
   "outputs": [
    {
     "data": {
      "text/plain": [
       "<seaborn.axisgrid.FacetGrid at 0x1c44353ae48>"
      ]
     },
     "execution_count": 4,
     "metadata": {},
     "output_type": "execute_result"
    },
    {
     "data": {
      "image/png": "[encoded data removed]",
      "text/plain": [
       "<Figure size 648x216 with 3 Axes>"
      ]
     },
     "metadata": {
      "needs_background": "light"
     },
     "output_type": "display_data"
    }
   ],
   "source": [
    "fGrid=sns.FacetGrid(df_melted, col=\"variable\", sharex=True, col_wrap=3)\n",
    "fGrid.map(plt.hist,\"value\",cumulative=False,bins=16)"
   ]
  },
  {
   "cell_type": "markdown",
   "metadata": {},
   "source": [
    "### 128 bins"
   ]
  },
  {
   "cell_type": "code",
   "execution_count": 5,
   "metadata": {},
   "outputs": [
    {
     "data": {
      "text/plain": [
       "<seaborn.axisgrid.FacetGrid at 0x1c4439c3ef0>"
      ]
     },
     "execution_count": 5,
     "metadata": {},
     "output_type": "execute_result"
    },
    {
     "data": {
      "image/png": "[encoded data removed]",
      "text/plain": [
       "<Figure size 648x216 with 3 Axes>"
      ]
     },
     "metadata": {
      "needs_background": "light"
     },
     "output_type": "display_data"
    }
   ],
   "source": [
    "fGrid_128=sns.FacetGrid(df_melted, col=\"variable\", sharex=True, col_wrap=3)\n",
    "fGrid_128.map(plt.hist,\"value\", cumulative=False, bins=128, color='g')"
   ]
  },
  {
   "cell_type": "markdown",
   "metadata": {},
   "source": [
    "#### /// If variance is low the number of bins also should be low. In another case the plot becomes not so informative."
   ]
  },
  {
   "cell_type": "markdown",
   "metadata": {},
   "source": [
    "### Cumulative 128 bins"
   ]
  },
  {
   "cell_type": "code",
   "execution_count": 6,
   "metadata": {},
   "outputs": [
    {
     "data": {
      "text/plain": [
       "pandas.core.frame.DataFrame"
      ]
     },
     "execution_count": 6,
     "metadata": {},
     "output_type": "execute_result"
    }
   ],
   "source": [
    "type(df_melted)"
   ]
  },
  {
   "cell_type": "code",
   "execution_count": 7,
   "metadata": {},
   "outputs": [
    {
     "data": {
      "text/plain": [
       "<seaborn.axisgrid.FacetGrid at 0x1c443c5ccf8>"
      ]
     },
     "execution_count": 7,
     "metadata": {},
     "output_type": "execute_result"
    },
    {
     "data": {
      "image/png": "[encoded data removed]",
      "text/plain": [
       "<Figure size 648x216 with 3 Axes>"
      ]
     },
     "metadata": {
      "needs_background": "light"
     },
     "output_type": "display_data"
    }
   ],
   "source": [
    "fGrid_128=sns.FacetGrid(df_melted, col=\"variable\", sharex=True, col_wrap=3)\n",
    "fGrid_128.map(plt.hist,\"value\", cumulative=True, bins=128, color='b')"
   ]
  },
  {
   "cell_type": "markdown",
   "metadata": {},
   "source": [
    "# 2) Normal distribution - inverse logit"
   ]
  },
  {
   "cell_type": "code",
   "execution_count": 8,
   "metadata": {},
   "outputs": [],
   "source": [
    "expit_melted = pd.DataFrame(df_melted['variable'])\n",
    "expit_melted['value'] = expit(df_melted['value'])"
   ]
  },
  {
   "cell_type": "code",
   "execution_count": 9,
   "metadata": {},
   "outputs": [
    {
     "data": {
      "text/html": [
       "<div>\n",
       "<style scoped>\n",
       "    .dataframe tbody tr th:only-of-type {\n",
       "        vertical-align: middle;\n",
       "    }\n",
       "\n",
       "    .dataframe tbody tr th {\n",
       "        vertical-align: top;\n",
       "    }\n",
       "\n",
       "    .dataframe thead th {\n",
       "        text-align: right;\n",
       "    }\n",
       "</style>\n",
       "<table border=\"1\" class=\"dataframe\">\n",
       "  <thead>\n",
       "    <tr style=\"text-align: right;\">\n",
       "      <th></th>\n",
       "      <th>variable</th>\n",
       "      <th>value</th>\n",
       "    </tr>\n",
       "  </thead>\n",
       "  <tbody>\n",
       "    <tr>\n",
       "      <th>0</th>\n",
       "      <td>default_normal</td>\n",
       "      <td>0.526871</td>\n",
       "    </tr>\n",
       "    <tr>\n",
       "      <th>1</th>\n",
       "      <td>default_normal</td>\n",
       "      <td>0.652460</td>\n",
       "    </tr>\n",
       "    <tr>\n",
       "      <th>2</th>\n",
       "      <td>default_normal</td>\n",
       "      <td>0.780452</td>\n",
       "    </tr>\n",
       "    <tr>\n",
       "      <th>3</th>\n",
       "      <td>default_normal</td>\n",
       "      <td>0.358713</td>\n",
       "    </tr>\n",
       "    <tr>\n",
       "      <th>4</th>\n",
       "      <td>default_normal</td>\n",
       "      <td>0.363407</td>\n",
       "    </tr>\n",
       "  </tbody>\n",
       "</table>\n",
       "</div>"
      ],
      "text/plain": [
       "         variable     value\n",
       "0  default_normal  0.526871\n",
       "1  default_normal  0.652460\n",
       "2  default_normal  0.780452\n",
       "3  default_normal  0.358713\n",
       "4  default_normal  0.363407"
      ]
     },
     "execution_count": 9,
     "metadata": {},
     "output_type": "execute_result"
    }
   ],
   "source": [
    "expit_melted.head()"
   ]
  },
  {
   "cell_type": "code",
   "execution_count": 10,
   "metadata": {},
   "outputs": [
    {
     "data": {
      "text/plain": [
       "<seaborn.axisgrid.FacetGrid at 0x1c4441f6e80>"
      ]
     },
     "execution_count": 10,
     "metadata": {},
     "output_type": "execute_result"
    },
    {
     "data": {
      "image/png": "[encoded data removed]",
      "text/plain": [
       "<Figure size 648x216 with 3 Axes>"
      ]
     },
     "metadata": {
      "needs_background": "light"
     },
     "output_type": "display_data"
    }
   ],
   "source": [
    "fGrid=sns.FacetGrid(expit_melted, col=\"variable\", sharex=True, col_wrap=3)\n",
    "fGrid.map(plt.hist,\"value\", cumulative=False, bins=64)"
   ]
  },
  {
   "cell_type": "markdown",
   "metadata": {},
   "source": [
    "### Cumulative"
   ]
  },
  {
   "cell_type": "code",
   "execution_count": 11,
   "metadata": {},
   "outputs": [
    {
     "data": {
      "text/plain": [
       "<seaborn.axisgrid.FacetGrid at 0x1c44461ea90>"
      ]
     },
     "execution_count": 11,
     "metadata": {},
     "output_type": "execute_result"
    },
    {
     "data": {
      "image/png": "[encoded data removed]",
      "text/plain": [
       "<Figure size 648x216 with 3 Axes>"
      ]
     },
     "metadata": {
      "needs_background": "light"
     },
     "output_type": "display_data"
    }
   ],
   "source": [
    "fGrid=sns.FacetGrid(expit_melted, col=\"variable\", sharex=True, col_wrap=3)\n",
    "fGrid.map(plt.hist,\"value\", cumulative=True, bins=64)"
   ]
  },
  {
   "cell_type": "markdown",
   "metadata": {},
   "source": [
    "# 3) Poisson distribution"
   ]
  },
  {
   "cell_type": "markdown",
   "metadata": {},
   "source": [
    "### Different lambdas"
   ]
  },
  {
   "cell_type": "code",
   "execution_count": 63,
   "metadata": {},
   "outputs": [],
   "source": [
    "df_poisson = pd.DataFrame(columns = None)\n",
    "s = np.random.poisson(lam=8, size=10000)\n",
    "df_poisson['poiss_lam_2_size_10000'] = np.random.poisson(lam=2, size=10000)\n",
    "df_poisson['poiss_lam_6_size_10000'] = np.random.poisson(lam=6, size=10000)\n",
    "df_poisson['poiss_lam_18_size_10000'] = np.random.poisson(lam=18, size=10000)\n",
    "poisson_melted = df_poisson.melt()"
   ]
  },
  {
   "cell_type": "code",
   "execution_count": 64,
   "metadata": {},
   "outputs": [
    {
     "data": {
      "text/plain": [
       "<seaborn.axisgrid.FacetGrid at 0x1c446937c88>"
      ]
     },
     "execution_count": 64,
     "metadata": {},
     "output_type": "execute_result"
    },
    {
     "data": {
      "image/png": "[encoded data removed]",
      "text/plain": [
       "<Figure size 648x216 with 3 Axes>"
      ]
     },
     "metadata": {
      "needs_background": "light"
     },
     "output_type": "display_data"
    }
   ],
   "source": [
    "fGrid=sns.FacetGrid(poisson_melted, col=\"variable\", sharex=True, col_wrap=3)\n",
    "fGrid.map(plt.hist,\"value\",cumulative=False,bins=32)"
   ]
  },
  {
   "cell_type": "markdown",
   "metadata": {},
   "source": [
    "##### /// If lambda is high (lambda > 15) the distribution shape is a bit simillar to normal distribution "
   ]
  },
  {
   "cell_type": "markdown",
   "metadata": {},
   "source": [
    "### Different sizes"
   ]
  },
  {
   "cell_type": "code",
   "execution_count": 61,
   "metadata": {},
   "outputs": [],
   "source": [
    "df_1 = pd.DataFrame(np.random.poisson(lam=5, size=50))\n",
    "df_2 = pd.DataFrame(np.random.poisson(lam=5, size=100))\n",
    "df_3 = pd.DataFrame(np.random.poisson(lam=5, size=10000))\n",
    "\n",
    "df_poisson = pd.concat([df_1,df_2,df_3], ignore_index=True, axis='columns')\n",
    "df_poisson.columns = [\"poiss_lam_5_size_100\", \"poiss_lam_5_size_1000\", \"poiss_lam_5_size_10000\"]\n",
    "poisson_melted = df_poisson.melt()"
   ]
  },
  {
   "cell_type": "code",
   "execution_count": 62,
   "metadata": {},
   "outputs": [
    {
     "data": {
      "text/plain": [
       "<seaborn.axisgrid.FacetGrid at 0x1c446784860>"
      ]
     },
     "execution_count": 62,
     "metadata": {},
     "output_type": "execute_result"
    },
    {
     "data": {
      "image/png": "[encoded data removed]",
      "text/plain": [
       "<Figure size 648x216 with 3 Axes>"
      ]
     },
     "metadata": {
      "needs_background": "light"
     },
     "output_type": "display_data"
    }
   ],
   "source": [
    "fGrid=sns.FacetGrid(poisson_melted, col=\"variable\", sharex=True, sharey=False, col_wrap=3)\n",
    "fGrid.map(plt.hist,\"value\",cumulative=False,bins=32)"
   ]
  },
  {
   "cell_type": "markdown",
   "metadata": {},
   "source": [
    "##### /// If the size is too small the distribution shape is often different from expected - "
   ]
  },
  {
   "cell_type": "markdown",
   "metadata": {},
   "source": [
    "# 4) Beta distribution"
   ]
  },
  {
   "cell_type": "code",
   "execution_count": 83,
   "metadata": {},
   "outputs": [],
   "source": [
    "df_beta = pd.DataFrame(columns = None)\n",
    "df_beta['beta_a_0.8_b_0.4'] = np.random.beta(a=0.8,b=0.4,size=10000)\n",
    "df_beta['beta_a_0.25_b_1.0'] = np.random.beta(a=0.25,b=1.0,size=10000)\n",
    "df_beta['beta_a_2.0_b_2.0'] = np.random.beta(a=2.0,b=2.0,size=10000)\n",
    "df_beta['beta_a_7.0_b_7.0'] = np.random.beta(a=7.0,b=7.0,size=10000)\n",
    "beta_melted = df_beta.melt()"
   ]
  },
  {
   "cell_type": "code",
   "execution_count": 84,
   "metadata": {},
   "outputs": [
    {
     "data": {
      "text/plain": [
       "<seaborn.axisgrid.FacetGrid at 0x1c4496a2a58>"
      ]
     },
     "execution_count": 84,
     "metadata": {},
     "output_type": "execute_result"
    },
    {
     "data": {
      "image/png": "[encoded data removed]",
      "text/plain": [
       "<Figure size 432x432 with 4 Axes>"
      ]
     },
     "metadata": {
      "needs_background": "light"
     },
     "output_type": "display_data"
    }
   ],
   "source": [
    "fGrid=sns.FacetGrid(beta_melted, col=\"variable\", sharex=True, col_wrap=2)\n",
    "fGrid.map(plt.hist,\"value\",cumulative=False, bins=32)"
   ]
  },
  {
   "cell_type": "code",
   "execution_count": 96,
   "metadata": {},
   "outputs": [
    {
     "name": "stdout",
     "output_type": "stream",
     "text": [
      "<scipy.stats._distn_infrastructure.rv_frozen object at 0x000001C4499AFE48>\n"
     ]
    }
   ],
   "source": [
    "df_beta = pd.DataFrame(columns = None)\n",
    "print(scipy.stats.beta(0.8, 0.4, 0.6,0.3,))\n",
    "#df_beta['beta_a_0.25_b_1.0'] = scipy.stats.beta(a=0.25,b=1.0,size=10000)\n",
    "#df_beta['beta_a_2.0_b_2.0'] = np.random.beta(a=2.0,b=2.0,size=10000)\n",
    "#df_beta['beta_a_7.0_b_7.0'] = np.random.beta(a=7.0,b=7.0,size=10000)\n",
    "beta_melted = df_beta.melt()"
   ]
  },
  {
   "cell_type": "code",
   "execution_count": 92,
   "metadata": {},
   "outputs": [
    {
     "data": {
      "text/html": [
       "<div>\n",
       "<style scoped>\n",
       "    .dataframe tbody tr th:only-of-type {\n",
       "        vertical-align: middle;\n",
       "    }\n",
       "\n",
       "    .dataframe tbody tr th {\n",
       "        vertical-align: top;\n",
       "    }\n",
       "\n",
       "    .dataframe thead th {\n",
       "        text-align: right;\n",
       "    }\n",
       "</style>\n",
       "<table border=\"1\" class=\"dataframe\">\n",
       "  <thead>\n",
       "    <tr style=\"text-align: right;\">\n",
       "      <th></th>\n",
       "      <th>beta_a_0.8_b_0.4</th>\n",
       "    </tr>\n",
       "  </thead>\n",
       "  <tbody>\n",
       "  </tbody>\n",
       "</table>\n",
       "</div>"
      ],
      "text/plain": [
       "Empty DataFrame\n",
       "Columns: [beta_a_0.8_b_0.4]\n",
       "Index: []"
      ]
     },
     "execution_count": 92,
     "metadata": {},
     "output_type": "execute_result"
    }
   ],
   "source": [
    "df_beta.head()"
   ]
  },
  {
   "cell_type": "markdown",
   "metadata": {},
   "source": [
    "# 5) Log-normal distribution"
   ]
  },
  {
   "cell_type": "code",
   "execution_count": 102,
   "metadata": {},
   "outputs": [],
   "source": [
    "df_lognormal = pd.DataFrame(columns = None)\n",
    "df_lognormal[\"lognormal_default\"] = np.random.lognormal(size=10000)\n",
    "df_lognormal[\"lognormal_m=3_sd=0.3\"] = np.random.lognormal(3,0.3,10000)\n",
    "df_lognormal[\"lognormal_m=0_sd=0.5\"] = np.random.lognormal(0,0.5,10000)\n",
    "df_lognormal[\"lognormal_m=8_sd=2\"] = np.random.lognormal(7,1.5,10000)\n",
    "lognormal_melted = df_lognormal.melt()"
   ]
  },
  {
   "cell_type": "code",
   "execution_count": 103,
   "metadata": {},
   "outputs": [
    {
     "data": {
      "text/plain": [
       "<seaborn.axisgrid.FacetGrid at 0x1c44b53aa90>"
      ]
     },
     "execution_count": 103,
     "metadata": {},
     "output_type": "execute_result"
    },
    {
     "data": {
      "image/png": "[encoded data removed]",
      "text/plain": [
       "<Figure size 432x432 with 4 Axes>"
      ]
     },
     "metadata": {
      "needs_background": "light"
     },
     "output_type": "display_data"
    }
   ],
   "source": [
    "fGrid=sns.FacetGrid(lognormal_melted, col=\"variable\", sharex=False, sharey=False, col_wrap=2)\n",
    "fGrid.map(plt.hist, \"value\", cumulative=False, bins=32)"
   ]
  },
  {
   "cell_type": "markdown",
   "metadata": {},
   "source": [
    "### Cumulative"
   ]
  },
  {
   "cell_type": "code",
   "execution_count": 104,
   "metadata": {},
   "outputs": [
    {
     "data": {
      "text/plain": [
       "<seaborn.axisgrid.FacetGrid at 0x1c44b78dbe0>"
      ]
     },
     "execution_count": 104,
     "metadata": {},
     "output_type": "execute_result"
    },
    {
     "data": {
      "image/png": "[encoded data removed]",
      "text/plain": [
       "<Figure size 432x432 with 4 Axes>"
      ]
     },
     "metadata": {
      "needs_background": "light"
     },
     "output_type": "display_data"
    }
   ],
   "source": [
    "fGrid=sns.FacetGrid(lognormal_melted, col=\"variable\", sharex=False, sharey=False, col_wrap=2)\n",
    "fGrid.map(plt.hist, \"value\", cumulative=True, bins=32)"
   ]
  },
  {
   "cell_type": "code",
   "execution_count": null,
   "metadata": {},
   "outputs": [],
   "source": []
  }
 ],
 "metadata": {
  "kernelspec": {
   "display_name": "Python 3",
   "language": "python",
   "name": "python3"
  },
  "language_info": {
   "codemirror_mode": {
    "name": "ipython",
    "version": 3
   },
   "file_extension": ".py",
   "mimetype": "text/x-python",
   "name": "python",
   "nbconvert_exporter": "python",
   "pygments_lexer": "ipython3",
   "version": "3.6.5"
  }
 },
 "nbformat": 4,
 "nbformat_minor": 2
}
